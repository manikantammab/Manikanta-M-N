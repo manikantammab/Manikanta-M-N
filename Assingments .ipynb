{
 "cells": [
  {
   "cell_type": "code",
   "execution_count": 1,
   "id": "e9bfb5e9",
   "metadata": {},
   "outputs": [],
   "source": [
    "#1.In the below elements which of them are values or an expression?\n",
    "# * expression\n",
    "# \"hello\" values\n",
    "# -87.8  values \n",
    "#- expression\n",
    "# /  expression\n",
    "# + expression\n",
    "# 6 values\n"
   ]
  },
  {
   "cell_type": "code",
   "execution_count": 2,
   "id": "af714800",
   "metadata": {},
   "outputs": [],
   "source": [
    "# 2.what is difference b/w string and variable\n",
    "#A Variable is a store of information, and a String is a type of information you would store in a Variable"
   ]
  },
  {
   "cell_type": "code",
   "execution_count": 3,
   "id": "6f246432",
   "metadata": {},
   "outputs": [],
   "source": [
    "#3. describe three different data types\n",
    "#numerical -int,complex,float\n",
    "#boolean\n",
    "#sequence type-string,list,tuple,dict,set"
   ]
  },
  {
   "cell_type": "code",
   "execution_count": 4,
   "id": "5d702507",
   "metadata": {},
   "outputs": [],
   "source": [
    "#4.what is expression made up of?what do all expressions?\n",
    "#An expression is a construct made up of variables, operators, and method invocations,which are constructed according to the syntax of the language, that evaluates to a single value."
   ]
  },
  {
   "cell_type": "code",
   "execution_count": 5,
   "id": "6b0b504c",
   "metadata": {},
   "outputs": [],
   "source": [
    "#5.this assignment statements,like spam=10. what is the difference b/w an expression and statement\n",
    "#n expression is something that can be reduced to a value, for example \"spam=10\" is an expression.  if it does, it's an expression. as it cannot be reduced to a value."
   ]
  },
  {
   "cell_type": "code",
   "execution_count": 6,
   "id": "aa627030",
   "metadata": {},
   "outputs": [
    {
     "data": {
      "text/plain": [
       "23"
      ]
     },
     "execution_count": 6,
     "metadata": {},
     "output_type": "execute_result"
    }
   ],
   "source": [
    "#6.After running the following code.what does the varaible bacon contain\n",
    "bacon=22\n",
    "bacon+1"
   ]
  },
  {
   "cell_type": "code",
   "execution_count": 7,
   "id": "e7033859",
   "metadata": {},
   "outputs": [
    {
     "data": {
      "text/plain": [
       "'spamspamspam'"
      ]
     },
     "execution_count": 7,
     "metadata": {},
     "output_type": "execute_result"
    }
   ],
   "source": [
    "#7.what should the values of the following two terms be?\n",
    "'spam'+'spamspam'\n",
    "'spam'*3\n",
    "#same"
   ]
  },
  {
   "cell_type": "code",
   "execution_count": 8,
   "id": "24d2f8b0",
   "metadata": {},
   "outputs": [],
   "source": [
    "#8.Why is eggs valid variable name while 100 is invalid?\n",
    "# variable are aphablet or alphanumeric.but not int \n"
   ]
  },
  {
   "cell_type": "code",
   "execution_count": 9,
   "id": "8250271c",
   "metadata": {},
   "outputs": [],
   "source": [
    "#9.what three functions can be used to get the integer, floating -point number or string version of a value?\n",
    "#for integer-int\n",
    "#floating-float\n",
    "#string-we are used nothing but \"s\" ex: s=\"sudh\""
   ]
  },
  {
   "cell_type": "code",
   "execution_count": 10,
   "id": "9066dd6b",
   "metadata": {},
   "outputs": [],
   "source": [
    "#why does this expression cause an error?How can you fix it?\n",
    "#\"i have eaten\"+99+\"burritos\"\n",
    "#  in string we can not cancetation with numerical values(int) so it is not possible\n"
   ]
  },
  {
   "cell_type": "code",
   "execution_count": 11,
   "id": "8e6bd7e9",
   "metadata": {},
   "outputs": [],
   "source": [
    "#ASSINGMENT- 2"
   ]
  },
  {
   "cell_type": "code",
   "execution_count": 12,
   "id": "f718b14a",
   "metadata": {},
   "outputs": [],
   "source": [
    "#1.what are the two values of the boolean data type? how do you write them\n",
    "#two values\n",
    "#True   False"
   ]
  },
  {
   "cell_type": "code",
   "execution_count": 13,
   "id": "b54b8352",
   "metadata": {},
   "outputs": [],
   "source": [
    "#2.what are the three different types of boolean operators\n",
    "#AND \n",
    "#OR\n",
    "#NOT"
   ]
  },
  {
   "cell_type": "code",
   "execution_count": 14,
   "id": "303fdc5e",
   "metadata": {},
   "outputs": [],
   "source": [
    "#3.make a list of each boolean operator's truth tables\n",
    "#or 'T' or 'T'=T,'T' or 'F'=T,'F' or 'T'=T,'F' or 'F'=F\n",
    "#and - 'T' and 'T'=T,'F' and 'T'=F,'T' and 'F'=F,'F' and 'F'=F\n",
    "#not- T!=F ,F!=T"
   ]
  },
  {
   "cell_type": "code",
   "execution_count": 15,
   "id": "52ad86de",
   "metadata": {},
   "outputs": [
    {
     "data": {
      "text/plain": [
       "False"
      ]
     },
     "execution_count": 15,
     "metadata": {},
     "output_type": "execute_result"
    }
   ],
   "source": [
    "#4.what are the values of the following expression?\n",
    "(5>4) and (3==4)"
   ]
  },
  {
   "cell_type": "code",
   "execution_count": 16,
   "id": "88e96d43",
   "metadata": {},
   "outputs": [
    {
     "data": {
      "text/plain": [
       "False"
      ]
     },
     "execution_count": 16,
     "metadata": {},
     "output_type": "execute_result"
    }
   ],
   "source": [
    "not(5>4)"
   ]
  },
  {
   "cell_type": "code",
   "execution_count": 17,
   "id": "8669c94d",
   "metadata": {},
   "outputs": [
    {
     "data": {
      "text/plain": [
       "True"
      ]
     },
     "execution_count": 17,
     "metadata": {},
     "output_type": "execute_result"
    }
   ],
   "source": [
    "(5>4) or (3==5)"
   ]
  },
  {
   "cell_type": "code",
   "execution_count": 18,
   "id": "2a3dffb7",
   "metadata": {},
   "outputs": [
    {
     "data": {
      "text/plain": [
       "False"
      ]
     },
     "execution_count": 18,
     "metadata": {},
     "output_type": "execute_result"
    }
   ],
   "source": [
    "(True and True) and (True==False)"
   ]
  },
  {
   "cell_type": "code",
   "execution_count": 19,
   "id": "73442ecb",
   "metadata": {},
   "outputs": [
    {
     "data": {
      "text/plain": [
       "True"
      ]
     },
     "execution_count": 19,
     "metadata": {},
     "output_type": "execute_result"
    }
   ],
   "source": [
    "(not False) or (not True)"
   ]
  },
  {
   "cell_type": "code",
   "execution_count": 20,
   "id": "ef6bdd61",
   "metadata": {},
   "outputs": [],
   "source": [
    "#5.what are the six comparsion operators?\n",
    "#>,>=,<,<=,==,!="
   ]
  },
  {
   "cell_type": "code",
   "execution_count": 21,
   "id": "6a40822c",
   "metadata": {},
   "outputs": [],
   "source": [
    "#6.how do you tell the difference b/w the equal to and assignment operators?Describe a condition and when you would use one.\n",
    "#both are not same, = is an Assignment Operator it is used to assign the value of variable or expression, while ==is an Equal to Operator and it is a relation operator used for comparison (to compare value of both left and right side operands)\n"
   ]
  },
  {
   "cell_type": "code",
   "execution_count": 22,
   "id": "e3b939f2",
   "metadata": {},
   "outputs": [
    {
     "name": "stdout",
     "output_type": "stream",
     "text": [
      "ham\n",
      "spam\n"
     ]
    }
   ],
   "source": [
    "#7.identify the three blocks in this code :\n",
    "spam=0\n",
    "if spam==10:\n",
    "    print(\"eggs\")\n",
    "elif spam>5:\n",
    "    print(\"bacon\")\n",
    "else:\n",
    "    print(\"ham\")\n",
    "    print(\"spam\")\n",
    "#if block\n",
    "#elif block\n",
    "#else"
   ]
  },
  {
   "cell_type": "code",
   "execution_count": 23,
   "id": "680b3ce4",
   "metadata": {},
   "outputs": [
    {
     "name": "stdout",
     "output_type": "stream",
     "text": [
      "Greeting!\n"
     ]
    }
   ],
   "source": [
    "#8.write code that print Hello if is stored in spam,print Howdy if 2 is stored in spam,and prints Greetings! if anything else is stored in spam\n",
    "\n",
    "if spam==1:\n",
    "    print(\"Hello\")\n",
    "elif spam==2:\n",
    "    print(\"Howdy\")\n",
    "else:\n",
    "    print(\"Greeting!\")"
   ]
  },
  {
   "cell_type": "code",
   "execution_count": 24,
   "id": "a4b71e76",
   "metadata": {},
   "outputs": [],
   "source": [
    "#9.if your programme is stuck in an endless loop,what keys you will press?\n",
    "# we use the \"break\" statement "
   ]
  },
  {
   "cell_type": "code",
   "execution_count": 25,
   "id": "1daf4423",
   "metadata": {},
   "outputs": [],
   "source": [
    "#10.how can you tell the difference b/w break and continue?\n",
    "#The Python break statement stops the loop in which the statement is placed. A Python continue statement skips a single iteration in a loop."
   ]
  },
  {
   "cell_type": "code",
   "execution_count": 27,
   "id": "1ba0eb17",
   "metadata": {},
   "outputs": [
    {
     "ename": "IndentationError",
     "evalue": "expected an indented block (Temp/ipykernel_5180/4199691874.py, line 3)",
     "output_type": "error",
     "traceback": [
      "\u001b[1;36m  File \u001b[1;32m\"C:\\Users\\User\\AppData\\Local\\Temp/ipykernel_5180/4199691874.py\"\u001b[1;36m, line \u001b[1;32m3\u001b[0m\n\u001b[1;33m    for i in range(10):\u001b[0m\n\u001b[1;37m                       ^\u001b[0m\n\u001b[1;31mIndentationError\u001b[0m\u001b[1;31m:\u001b[0m expected an indented block\n"
     ]
    }
   ],
   "source": [
    "#11.in a for loop what is difference b/w range(10),range(0,10) and range(0,10,1)?\n",
    "i=[1,2,3,4,5,6,7,8,9,10]\n",
    "for i in range(10):"
   ]
  },
  {
   "cell_type": "code",
   "execution_count": null,
   "id": "ca7de35b",
   "metadata": {},
   "outputs": [],
   "source": [
    "#it will give number digits except uppercase\n",
    "i"
   ]
  },
  {
   "cell_type": "code",
   "execution_count": 29,
   "id": "3a41ecac",
   "metadata": {},
   "outputs": [
    {
     "name": "stdout",
     "output_type": "stream",
     "text": [
      "0\n",
      "1\n",
      "2\n",
      "3\n",
      "4\n",
      "5\n",
      "6\n",
      "7\n",
      "8\n",
      "9\n"
     ]
    }
   ],
   "source": [
    "#it will give 0-9 number except uppercase 10 \n",
    "for i in range(0,10):\n",
    "    print(i)"
   ]
  },
  {
   "cell_type": "code",
   "execution_count": 28,
   "id": "f62b0e05",
   "metadata": {},
   "outputs": [
    {
     "name": "stdout",
     "output_type": "stream",
     "text": [
      "0\n",
      "1\n",
      "2\n",
      "3\n",
      "4\n",
      "5\n",
      "6\n",
      "7\n",
      "8\n",
      "9\n"
     ]
    }
   ],
   "source": [
    "#it be in form of the startindex=0,endindex=10,stepsize=1 \n",
    "for i in range(0,10,1):\n",
    "    print(i)"
   ]
  },
  {
   "cell_type": "code",
   "execution_count": 30,
   "id": "e24a1202",
   "metadata": {},
   "outputs": [
    {
     "name": "stdout",
     "output_type": "stream",
     "text": [
      "1\n",
      "2\n",
      "3\n",
      "4\n",
      "5\n",
      "6\n",
      "7\n",
      "8\n",
      "9\n",
      "10\n"
     ]
    }
   ],
   "source": [
    "#12.write a short program that prints the numbers 1 to 10 using a for loop.then write an equivalent program that program that print the numbers 1 to 10 using a while loo\n",
    "for i in range(1,11,1):\n",
    "    print(i)"
   ]
  },
  {
   "cell_type": "code",
   "execution_count": 31,
   "id": "df2e226c",
   "metadata": {},
   "outputs": [
    {
     "name": "stdout",
     "output_type": "stream",
     "text": [
      "1\n",
      "2\n",
      "3\n",
      "4\n",
      "5\n",
      "6\n",
      "7\n",
      "8\n",
      "9\n",
      "10\n"
     ]
    }
   ],
   "source": [
    "i = 1\n",
    "while(i<=10):\n",
    "    print(i)\n",
    "    i += 1"
   ]
  },
  {
   "cell_type": "code",
   "execution_count": null,
   "id": "ade2ccab",
   "metadata": {},
   "outputs": [],
   "source": [
    "#13.if you had a function named bacon() inside a module named spam,how would you call it after importing spam?\n",
    "#This function can be called with spam.bacon()"
   ]
  },
  {
   "cell_type": "code",
   "execution_count": 32,
   "id": "908bdbf0",
   "metadata": {},
   "outputs": [],
   "source": [
    "#ASSIGNMENT -3\n",
    "#1. Why are functions advantageous to have in your programs?\n",
    "#Avoid repetition of codes,Increases program readability,Divide a complex problem into simpler ones,Reduces chances of error,Modifying a program becomes easier by using function.\n",
    "#2. When does the code in a function run: when its specified or when its called?\n",
    "#When a function is called the program control jumps to that function definition and executes the statements inside the function body. After executing the body of the function, the program control jumps back to the part of the program which called the function, and resumes execution at that point.\n",
    "#3. What statement creates a function?\n",
    "#Python creating functions. A function is created with the def keyword. The statements in the block of the function must be indented. The def keyword is followed by the function name with round brackets and a colon\n",
    "#4. What is the difference between a function and a function call?\n",
    "#Using a function to do a particular task any point in program is called as function call.\n",
    "\n",
    "#So the difference between the function and function call is,\n",
    "#A function is procedure to achieve a particular result while function call is using this function to achive that task\n",
    "#5. How many global scopes are there in a Python program? How many local scopes?\n",
    "#Local Scope in Python. In the above code, we define a variable 'a' in a function 'func'. ...\n",
    "#Global Scope in Python. We also declare a variable 'b' outside any other python Variable scope, this makes it global scope. .\n",
    "#6. What happens to variables in a local scope when the function call returns?\n",
    "# to return a local variable created inside a function, which can be done by returning a pointer to the variable from the called function to the caller function.\n",
    "#7. What is the concept of a return value? Is it possible to have a return value in an expression?\n",
    "#Return values are just what they sound like — the values that a function returns when it has completed.\n",
    "#return statement is used to end the execution of the function call and “returns” the result (value of the expression following the return keyword) to the caller\n",
    "#8. If a function does not have a return statement, what is the return value of a call to that function?\n",
    "#If a function doesn't specify a return value, it returns None . In an if/then conditional statement, None evaluates to False.\n",
    "#9. How do you make a function variable refer to the global variable?\n",
    "#Use of “global†keyword to modify global variable inside a function\n",
    "#10. What is the data type of None?\n",
    "#The None keyword is used to define a null variable or an object. In Python, None keyword is an object, and it is a data type of the class NoneType . We can assign None to any variable, but you can not create other NoneType objects.\n",
    "#11. What does the sentence import areallyourpetsnamederic do?\n",
    "#That import statement imports a module named areallyourpetsnamederic.\n",
    "#12. If you had a bacon() feature in a spam module, what would you call it after importing spam?\n",
    "#This function can be called with spam. bacon()\n",
    "#13. What can you do to save a programme from crashing if it encounters an error?\n",
    "#When it encounters an error, the control is passed to the except block, skipping the code in between. As seen in the above code, we have moved our code inside a try and except statement. Try running the program and it should throw an error message instead of crashing the program.\n",
    "#14. What is the purpose of the try clause? What is the purpose of the except clause?\n",
    "#In the try clause, all statements are executed until an exception is encountered. except is used to catch and handle the exception(s) that are encountered in the try clause. else lets you code sections that should run only when no exceptions are encountered in the try clause."
   ]
  },
  {
   "cell_type": "code",
   "execution_count": 4,
   "id": "17daa8e6",
   "metadata": {},
   "outputs": [
    {
     "name": "stdout",
     "output_type": "stream",
     "text": [
      "Object `contain` not found.\n"
     ]
    }
   ],
   "source": [
    "#ASSIGNMENT-4\n",
    "#1. What exactly is []?\n",
    "#The empty list value, which is a list value that contains no items\n",
    "#2. In a list of values stored in a variable called spam, how would you assign the value ?(Assume [2, 4, 6, 8, 10] are in spam.)\n",
    "#\n",
    "#3. What is the value of spam[int(int(&#39;3&#39; * 2) / 11)]?\n",
    "#4. What is the value of spam[-1]?\n",
    "#5. What is the value of spam[:2]?\n",
    "#Let's pretend bacon has the list [3.14,'cat', '11','cat', True] for the next three questions.\n",
    "#6. What is the value of bacon.index('cat')?\n",
    "#index=1.....because tit is prepare for first index                                     \n",
    "#7. How does bacon.append(99) change the look of the list value in bacon?\n",
    "l=[3.14,'cat', '11','cat', True]\n",
    "l.append('99')                                     \n",
    "#8. How does bacon.remove('cat') change the look of the list in bacon?\n",
    "l.remove('cat')\n",
    "#9. What are the list concatenation and list replication operators?\n",
    "#the concatenation operator connects one string at the end of the other. The multiplication operator acts as a replication operator when we have one string and one integer as operands.\n",
    "#10. What is difference between the list methods append() and insert()?\n",
    "#The only difference between append() and insert() is that insert function allows us to add a specific element at a specified index of the list unlike append() where we can add the element only at end of the list\n",
    "#11. What are the two methods for removing items from a list?\n",
    "#it pop() it remove based on index....another one will remove() it is based on give value\n",
    "#12. Describe how list values and string values are identical.\n",
    "#The similarity between Lists and Strings in Python is that both are sequences. The differences between them are that firstly, Lists are mutable but Strings are immutable\n",
    "#13. What's the difference between tuples and lists?\n",
    "#list is define in [] ....but tuple is define ()\n",
    "#14. How do you type a tuple value that only contains the integer 42?\n",
    "#t=(42)\n",
    "#15. How do you get a list value's tuple form? How do you get a tuple value's list form?\n",
    "\n",
    "# create tuples with college id and\n",
    "# name and store in a list\n",
    "data = [(1, 'sravan'), (2, 'ojaswi'), (3, 'bobby'),\n",
    "        (4, 'rohith'), (5, 'gnanesh')]\n",
    "  \n",
    "# display data\n",
    "data\n",
    "\n",
    "#16. Variables that 'contain' list values are not necessarily lists themselves. Instead, what do they contain?\n",
    "#\n",
    "#17. How do you distinguish between copy.copy() and copy.deepcopy()?\n",
    "#A shallow copy constructs a new compound object and then (to the extent possible) inserts references into it to the objects found in the original. A deep copy constructs a new compound object and then, recursively, inserts copies into it of the objects found in the original."
   ]
  },
  {
   "cell_type": "code",
   "execution_count": null,
   "id": "d565ed71",
   "metadata": {},
   "outputs": [],
   "source": [
    "#ASSIGNMENT-5\n",
    "#1. What does an empty dictionary's code look like?\n",
    "#2. What is the value of a dictionary value with the key 'foo' and the value 42?\n",
    "#3. What is the most significant distinction between a dictionary and a list?\n",
    "#4. What happens if you try to access spam['foo'] if spam is {'bar': 100}?\n",
    "#5. If a dictionary is stored in spam, what is the difference between the expressions 'cat' in spam and'cat' in spam.keys()?\n",
    "#6. If a dictionary is stored in spam, what is the difference between the expressions 'cat' in spam and 'cat' in spam.values()?\n",
    "#7. What is a shortcut for the following code?\n",
    "#if 'color' not in spam:\n",
    "spam['color'] = 'black'\n",
    "\n",
    "#8. How do you &quot;pretty print&quot; dictionary values using which module and function?"
   ]
  }
 ],
 "metadata": {
  "kernelspec": {
   "display_name": "Python 3 (ipykernel)",
   "language": "python",
   "name": "python3"
  },
  "language_info": {
   "codemirror_mode": {
    "name": "ipython",
    "version": 3
   },
   "file_extension": ".py",
   "mimetype": "text/x-python",
   "name": "python",
   "nbconvert_exporter": "python",
   "pygments_lexer": "ipython3",
   "version": "3.9.7"
  }
 },
 "nbformat": 4,
 "nbformat_minor": 5
}
